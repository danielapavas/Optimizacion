{
  "nbformat": 4,
  "nbformat_minor": 0,
  "metadata": {
    "colab": {
      "provenance": [],
      "authorship_tag": "ABX9TyMlHsjV0TAC91r/8Y2e834/",
      "include_colab_link": true
    },
    "kernelspec": {
      "name": "python3",
      "display_name": "Python 3"
    },
    "language_info": {
      "name": "python"
    }
  },
  "cells": [
    {
      "cell_type": "markdown",
      "metadata": {
        "id": "view-in-github",
        "colab_type": "text"
      },
      "source": [
        "<a href=\"https://colab.research.google.com/github/danielapavas/Optimizacion/blob/main/Metodo_de_bisecci%C3%B3n.ipynb\" target=\"_parent\"><img src=\"https://colab.research.google.com/assets/colab-badge.svg\" alt=\"Open In Colab\"/></a>"
      ]
    },
    {
      "cell_type": "markdown",
      "source": [
        "METODO DE BISECCIÓN\n",
        "\n"
      ],
      "metadata": {
        "id": "VD8xD2xlZWkK"
      }
    },
    {
      "cell_type": "code",
      "execution_count": 2,
      "metadata": {
        "id": "F5euqX3pYTPD"
      },
      "outputs": [],
      "source": [
        "def biseccion(funcion, a, b, tolerance, maximo):\n",
        "    if funcion(a) * funcion(b) >= 0:\n",
        "        raise ValueError(\"La función no cumple con el teorema de Bolzano en el intervalo dado.\")\n",
        "\n",
        "    i = 0\n",
        "    while (b - a) / 2 > tolerance and i < maximo:\n",
        "        mitad = (a + b) / 2\n",
        "        if funcion(mitad) == 0:\n",
        "            return mitad\n",
        "        elif funcion(mitad) * funcion(a) < 0:\n",
        "            b = mitad\n",
        "        else:\n",
        "            a = mitad\n",
        "\n",
        "        i += 1\n",
        "\n",
        "    return (a + b) / 2"
      ]
    },
    {
      "cell_type": "code",
      "source": [
        "def ejemplo(x):\n",
        "    return x**2 - 4\n",
        "\n",
        "a = 1.0\n",
        "b = 3.0\n",
        "tolerance = 1e-6\n",
        "maximo = 100\n",
        "\n",
        "root = biseccion(ejemplo, a, b, tolerance, maximo)\n",
        "print(\"Raíz aproximada:\", root)"
      ],
      "metadata": {
        "colab": {
          "base_uri": "https://localhost:8080/"
        },
        "id": "HeYoNqX0ahfB",
        "outputId": "d09b0e1c-5424-46ed-9531-082b51fd6bf6"
      },
      "execution_count": 3,
      "outputs": [
        {
          "output_type": "stream",
          "name": "stdout",
          "text": [
            "Raíz aproximada: 2.0\n"
          ]
        }
      ]
    }
  ]
}