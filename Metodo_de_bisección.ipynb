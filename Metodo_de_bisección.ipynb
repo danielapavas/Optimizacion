{
  "nbformat": 4,
  "nbformat_minor": 0,
  "metadata": {
    "colab": {
      "provenance": [],
      "authorship_tag": "ABX9TyPbRMSj/vbsmqe+QXeX0m8h",
      "include_colab_link": true
    },
    "kernelspec": {
      "name": "python3",
      "display_name": "Python 3"
    },
    "language_info": {
      "name": "python"
    }
  },
  "cells": [
    {
      "cell_type": "markdown",
      "metadata": {
        "id": "view-in-github",
        "colab_type": "text"
      },
      "source": [
        "<a href=\"https://colab.research.google.com/github/danielapavas/Optimizacion/blob/main/Metodo_de_bisecci%C3%B3n.ipynb\" target=\"_parent\"><img src=\"https://colab.research.google.com/assets/colab-badge.svg\" alt=\"Open In Colab\"/></a>"
      ]
    },
    {
      "cell_type": "markdown",
      "source": [
        "METODO DE BISECCIÓN\n",
        "\n"
      ],
      "metadata": {
        "id": "VD8xD2xlZWkK"
      }
    },
    {
      "cell_type": "code",
      "source": [
        "import matplotlib.pyplot as plt\n",
        "import numpy as np"
      ],
      "metadata": {
        "id": "zhWm_nZy7Isf"
      },
      "execution_count": 6,
      "outputs": []
    },
    {
      "cell_type": "code",
      "execution_count": 4,
      "metadata": {
        "id": "F5euqX3pYTPD"
      },
      "outputs": [],
      "source": [
        "def biseccion(funcion, a, b, tolerance, maximo):\n",
        "    if funcion(a) * funcion(b) >= 0:\n",
        "        raise ValueError(\"La función no cumple con el teorema de Bolzano en el intervalo dado.\")\n",
        "\n",
        "    i = 0\n",
        "    while (b - a) / 2 > tolerance and i < maximo:\n",
        "        mitad = (a + b) / 2\n",
        "        if funcion(mitad) == 0:\n",
        "            return mitad\n",
        "        elif funcion(mitad) * funcion(a) < 0:\n",
        "            b = mitad\n",
        "        else:\n",
        "            a = mitad\n",
        "\n",
        "        i += 1\n",
        "\n",
        "    return (a + b) / 2"
      ]
    },
    {
      "cell_type": "code",
      "source": [
        "def ejemplo(x):\n",
        "    return x**2 - 4\n",
        "\n",
        "a = 1.0\n",
        "b = 3.0\n",
        "tolerance = 1e-6\n",
        "maximo = 100\n",
        "\n",
        "root = biseccion(ejemplo, a, b, tolerance, maximo)\n",
        "print(\"Raíz aproximada:\", root)"
      ],
      "metadata": {
        "colab": {
          "base_uri": "https://localhost:8080/"
        },
        "id": "HeYoNqX0ahfB",
        "outputId": "049861b5-e7ca-45d5-af53-bd2f43b6bcd5"
      },
      "execution_count": 5,
      "outputs": [
        {
          "output_type": "stream",
          "name": "stdout",
          "text": [
            "Raíz aproximada: 2.0\n"
          ]
        }
      ]
    },
    {
      "cell_type": "code",
      "source": [
        "import numpy as np\n",
        "import matplotlib.pyplot as plt\n",
        "\n",
        "def bisection_method(function, a, b, tolerance, max_iterations):\n",
        "    if function(a) * function(b) >= 0:\n",
        "        raise ValueError(\"La función no cumple con el teorema de Bolzano en el intervalo dado.\")\n",
        "\n",
        "    iteration = 0\n",
        "    error_list = []\n",
        "    approximation_list = []\n",
        "\n",
        "    while (b - a) / 2 > tolerance and iteration < max_iterations:\n",
        "        midpoint = (a + b) / 2\n",
        "        approximation_list.append(midpoint)\n",
        "\n",
        "        if function(midpoint) == 0:\n",
        "            return midpoint, approximation_list, error_list\n",
        "        elif function(midpoint) * function(a) < 0:\n",
        "            b = midpoint\n",
        "        else:\n",
        "            a = midpoint\n",
        "\n",
        "        error = abs((b - a) / 2)\n",
        "        error_list.append(error)\n",
        "        iteration += 1\n",
        "\n",
        "    return (a + b) / 2, approximation_list, error_list\n",
        "\n",
        "# Función de ejemplo\n",
        "def example_function(x):\n",
        "    return x**2 - 4\n",
        "\n",
        "a = 1.0\n",
        "b = 3.0\n",
        "tolerance = 1e-6\n",
        "max_iterations = 100\n",
        "\n",
        "root, approximation_list, error_list = bisection_method(example_function, a, b, tolerance, max_iterations)\n",
        "\n",
        "print(\"Raíz aproximada:\", root)\n",
        "\n",
        "# Crear gráfica si hay datos\n",
        "if approximation_list:\n",
        "    x_vals = np.linspace(a, b, 100)\n",
        "    y_vals = example_function(x_vals)\n",
        "\n",
        "    plt.plot(x_vals, y_vals, label='f(x)')\n",
        "    plt.axhline(y=0, color='black', linestyle='--')\n",
        "    plt.scatter(approximation_list, [example_function(x) for x in approximation_list], color='red', label='Aproximaciones')\n",
        "    plt.xlabel('x')\n",
        "    plt.ylabel('f(x)')\n",
        "    plt.legend()\n",
        "    plt.title('Método de la Bisección')\n",
        "    plt.show()\n",
        "\n",
        "    # Crear tabla de datos si hay datos\n",
        "    if error_list:\n",
        "        print(\"\\nTabla de datos:\")\n",
        "        print(\"+------------------+----------------------+----------------------+\")\n",
        "        print(\"| Iteración        | Aproximación         | Error                |\")\n",
        "        print(\"+------------------+----------------------+----------------------+\")\n",
        "        for i in range(len(approximation_list)):\n",
        "            print(f\"| {i+1:^16} | {approximation_list[i]:^20.8f} | {error_list[i]:^20.8f} |\")\n",
        "        print(\"+------------------+----------------------+----------------------+\")\n"
      ],
      "metadata": {
        "id": "5MYU2JrU-uqg",
        "outputId": "badc2962-f6ca-461b-d888-78c07c734580",
        "colab": {
          "base_uri": "https://localhost:8080/",
          "height": 489
        }
      },
      "execution_count": 9,
      "outputs": [
        {
          "output_type": "stream",
          "name": "stdout",
          "text": [
            "Raíz aproximada: 2.0\n"
          ]
        },
        {
          "output_type": "display_data",
          "data": {
            "text/plain": [
              "<Figure size 640x480 with 1 Axes>"
            ],
            "image/png": "[encoded data removed]"
          },
          "metadata": {}
        }
      ]
    },
    {
      "cell_type": "code",
      "source": [
        "import numpy as np\n",
        "import matplotlib.pyplot as plt\n",
        "\n",
        "# Ecuación a resolver\n",
        "def f(x):\n",
        "    return x**3 - 2*x**2 + 3*x - 5\n",
        "\n",
        "# Derivada de la ecuación\n",
        "def df(x):\n",
        "    return 3*x**2 - 4*x + 3\n",
        "\n",
        "# Valores iniciales\n",
        "a = 0\n",
        "b = 1\n",
        "\n",
        "# Tolerancia\n",
        "tol = 1e-6\n",
        "\n",
        "# Método de la bisección\n",
        "def bisection(a, b, tol):\n",
        "    fa = f(a)\n",
        "    fb = f(b)\n",
        "    if np.sign(fa) == np.sign(fb):\n",
        "        print(\"Error: la función no tiene cambio de signo en el intervalo\")\n",
        "        return None\n",
        "    while abs(b-a) > tol:\n",
        "        c = (a + b) / 2\n",
        "        fc = f(c)\n",
        "        if np.sign(fa) == np.sign(fc):\n",
        "            a = c\n",
        "            fa = fc\n",
        "        else:\n",
        "            b = c\n",
        "    return (a + b) / 2\n",
        "\n",
        "# Solución\n",
        "x = bisection(a, b, tol)\n",
        "\n",
        "# Gráfica\n",
        "if x is not None:\n",
        "    x_vals = np.linspace(a, b, 100)\n",
        "    y_vals = f(x_vals)\n",
        "    plt.plot(x_vals, y_vals)\n",
        "    plt.plot([a, b], [0, 0], 'k--')\n",
        "    plt.plot([x, x], [0, f(x)], 'r--')\n",
        "    plt.plot(x, f(x), 'ro')\n",
        "    plt.grid()\n",
        "    plt.show()\n",
        "else:\n",
        "    print(\"Error: la función no tiene cambio de signo en el intervalo\")\n",
        "\n",
        "# Tabla de datos\n",
        "if x is not None:\n",
        "    print(\"Intervalo: [{:.4f}, {:.4f}]\".format(a, b))\n",
        "    print(\"Solución: {:.4f}\".format(x))\n",
        "    print(\"Error: {:.4e}\".format(abs(f(x))))\n",
        "else:\n",
        "    print(\"Error: la función no tiene cambio de signo en el intervalo\")"
      ],
      "metadata": {
        "id": "ZRx1JblRA8ZM",
        "outputId": "db58fc00-6fc8-49de-a6cc-611a3079e044",
        "colab": {
          "base_uri": "https://localhost:8080/"
        }
      },
      "execution_count": 12,
      "outputs": [
        {
          "output_type": "stream",
          "name": "stdout",
          "text": [
            "Error: la función no tiene cambio de signo en el intervalo\n",
            "Error: la función no tiene cambio de signo en el intervalo\n",
            "Error: la función no tiene cambio de signo en el intervalo\n"
          ]
        }
      ]
    }
  ]
}